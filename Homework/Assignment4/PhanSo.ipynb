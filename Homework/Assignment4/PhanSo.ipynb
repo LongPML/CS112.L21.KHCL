{
 "metadata": {
  "language_info": {
   "codemirror_mode": {
    "name": "ipython",
    "version": 3
   },
   "file_extension": ".py",
   "mimetype": "text/x-python",
   "name": "python",
   "nbconvert_exporter": "python",
   "pygments_lexer": "ipython3",
   "version": "3.7.9"
  },
  "orig_nbformat": 2,
  "kernelspec": {
   "name": "python379jvsc74a57bd00600588c3b5f4418cbe7b5ebc6825b479f3bc010269d8b60d75058cdd010adfe",
   "display_name": "Python 3.7.9 64-bit"
  },
  "metadata": {
   "interpreter": {
    "hash": "0600588c3b5f4418cbe7b5ebc6825b479f3bc010269d8b60d75058cdd010adfe"
   }
  }
 },
 "nbformat": 4,
 "nbformat_minor": 2,
 "cells": [
  {
   "source": [
    "![PhanSo](https://raw.githubusercontent.com/LongPML/CS112.L21.KHCL/main/Homework/Assignment4/PhanSo.png)"
   ],
   "cell_type": "markdown",
   "metadata": {}
  },
  {
   "source": [
    "# Bài làm\n",
    "\n",
    "1. Abstraction: \n",
    "  - Cho 2 phân số đúng $\\frac{a}{b}$ và $\\frac{c}{d}$. $a,b$ và $c,d$ là hai cặp nguyên tố cùng nhau $(\\frac{a}{b} \\neq \\frac{c}{d})$. \n",
    "  - Mỗi bước biến đổi tăng $a$ và $b$ lên $1$, sau đó tối giản phân số nhận được.\n",
    "  - Xác định số lần biến đổi để từ phân số thứ nhất nhận được phân số thứ hai. Trả về $0$ nếu không tồn tại.\n",
    "\n",
    "2. Pattern Recognition: bài toán ước chung lớn nhất.\n",
    "\n",
    "3. Algorithm Designed:\n",
    "```\n",
    "        count = 0\n",
    "        while (c/d) > (a/b):\n",
    "            count += 1\n",
    "            a, b = (a+1)//GCD(a+1,b+1), (b+1)//GCD(a+1,b+1)\n",
    "        \n",
    "        if (c/d) == (a/b):\n",
    "            print(count)\n",
    "        else: print(0)\n",
    "```\n",
    "\n",
    "4. Time complexity: O(n)\n",
    "\n",
    "5. Programming:"
   ],
   "cell_type": "markdown",
   "metadata": {}
  },
  {
   "cell_type": "code",
   "execution_count": 3,
   "metadata": {},
   "outputs": [
    {
     "output_type": "stream",
     "name": "stdout",
     "text": [
      "5\n"
     ]
    }
   ],
   "source": [
    "a = int(input())\n",
    "b = int(input())\n",
    "c = int(input())\n",
    "d = int(input())\n",
    "\n",
    "def GCD(x, y):\n",
    "    while 0 != x:\n",
    "        x, y = (y%x), x\n",
    "    return y\n",
    "\n",
    "def RutGon(x, y):\n",
    "    temp = GCD(x, y)\n",
    "    return x // temp, y //temp\n",
    "\n",
    "count = 0\n",
    "while (c/d) > (a/b):\n",
    "    count += 1\n",
    "    a, b = RutGon(a+1, b+1)\n",
    "\n",
    "if c/d == a/b:\n",
    "    print(count)\n",
    "else: print(0)"
   ]
  }
 ]
}