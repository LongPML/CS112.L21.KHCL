{
 "metadata": {
  "language_info": {
   "codemirror_mode": {
    "name": "ipython",
    "version": 3
   },
   "file_extension": ".py",
   "mimetype": "text/x-python",
   "name": "python",
   "nbconvert_exporter": "python",
   "pygments_lexer": "ipython3",
   "version": "3.7.9"
  },
  "orig_nbformat": 2,
  "kernelspec": {
   "name": "python379jvsc74a57bd00600588c3b5f4418cbe7b5ebc6825b479f3bc010269d8b60d75058cdd010adfe",
   "display_name": "Python 3.7.9 64-bit"
  },
  "metadata": {
   "interpreter": {
    "hash": "0600588c3b5f4418cbe7b5ebc6825b479f3bc010269d8b60d75058cdd010adfe"
   }
  }
 },
 "nbformat": 4,
 "nbformat_minor": 2,
 "cells": [
  {
   "source": [
    "![PhanSo](https://raw.githubusercontent.com/LongPML/CS112.L21.KHCL/main/Homework/Assignment4/PhanSo.png)"
   ],
   "cell_type": "markdown",
   "metadata": {}
  },
  {
   "source": [
    "# Bài làm\n",
    "1. Abstraction: cho hai số n và k(1 <= n <= 1000, 1 <= k <= $10^{17}$), f(1) = n, f(2) = 2n, $f(k) = 3*f(k-1) - f(k-2)$. Tính tổng $f(0) + f(1) + ... + f(k)$ theo modun $10^9+7$\n",
    "2. Pattern Recognition: bài toán quy hoạch động, giải quyết bài toán lớn thông qua những bài toán nhỏ hơn.\n",
    "3. Algorithm Designed:\n",
    "\n",
    "```\n",
    "for i in range(2, k+1):\n",
    "  f0=f1\n",
    "  f1=fk\n",
    "  fk=(3*f1 - f0)%(1000000007)   \n",
    "return fk\n",
    "```\n",
    "\n",
    "\n",
    "4. Time complexity: O(n)\n",
    "\n",
    "5. Programming:"
   ],
   "cell_type": "markdown",
   "metadata": {}
  },
  {
   "cell_type": "code",
   "execution_count": 2,
   "metadata": {},
   "outputs": [
    {
     "output_type": "stream",
     "name": "stdout",
     "text": [
      "1 6 2 3\n"
     ]
    }
   ],
   "source": [
    "a, b, c, d = [int(x) for x in input().split()]\n",
    "\n"
   ]
  }
 ]
}