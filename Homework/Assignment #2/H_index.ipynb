{
  "nbformat": 4,
  "nbformat_minor": 0,
  "metadata": {
    "colab": {
      "name": "H_index.ipynb",
      "provenance": [],
      "collapsed_sections": []
    },
    "kernelspec": {
      "name": "python3",
      "display_name": "Python 3"
    },
    "language_info": {
      "name": "python"
    }
  },
  "cells": [
    {
      "cell_type": "markdown",
      "metadata": {
        "id": "xLfSmVpLy5b1"
      },
      "source": [
        "![anh](https://raw.githubusercontent.com/HUNDRED3421/CS112.L21.KHCL/main/Homework/Assignment%20%232/H_Index.png)"
      ]
    },
    {
      "cell_type": "markdown",
      "metadata": {
        "id": "OxmV9iKyzaxt"
      },
      "source": [
        "#Bài làm\n",
        "1. *Abstraction*: Cho một dãy số **A** gồm **n số nguyên dương [a1, a2,..,an]**, tìm số **K lớn nhất có thể** sao cho có ít nhất **k** số trong dãy số **A** có giá trị lớn hơn **k**.($1 ≤ n ≤ 5×10^5, 0 ≤ ai ≤ 10^6, i = 1 ÷ n$).\n",
        "2. *Pattern recognition*: bài toán sắp xếp\n",
        ">Đặc điểm nhận dang:\n",
        "  + Cho một dãy số\n",
        "  + Tìm lớn nhất\n",
        "\n",
        "3. *Algorithm designed*: \n",
        "```\n",
        "merge_sort(A) #giả sử sử dụng merge sort\n",
        "k = n\n",
        "loop i = 0 to n-1:\n",
        "      if A[i] >= k:\n",
        "      break\n",
        "      k = k - 1\n",
        "```\n",
        "4. *Time complexity*: O(merge_sort) + O(n) = O(n*logn) + O(n) = O(n*logn)\n",
        "5. *Programming*: cài đặt chương trình bằng NNLT Python"
      ]
    },
    {
      "cell_type": "code",
      "metadata": {
        "colab": {
          "base_uri": "https://localhost:8080/"
        },
        "id": "fH48rr3NypZJ",
        "outputId": "72d6978f-5723-463d-d034-a50efb4fc11e"
      },
      "source": [
        "n = int(input())\n",
        "l = list(map(int, input().split()))\n",
        "l.sort()\n",
        "H_index = n\n",
        "for i in range(n):\n",
        "    if l[i] >= H_index:\n",
        "        break\n",
        "    H_index -= 1\n",
        "print(H_index)"
      ],
      "execution_count": null,
      "outputs": [
        {
          "output_type": "stream",
          "text": [
            "5\n",
            "8 5 3 4 10\n",
            "4\n"
          ],
          "name": "stdout"
        }
      ]
    }
  ]
}
