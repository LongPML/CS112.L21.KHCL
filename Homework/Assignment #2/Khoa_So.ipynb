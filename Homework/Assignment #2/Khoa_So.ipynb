{
 "metadata": {
  "language_info": {
   "codemirror_mode": {
    "name": "ipython",
    "version": 3
   },
   "file_extension": ".py",
   "mimetype": "text/x-python",
   "name": "python",
   "nbconvert_exporter": "python",
   "pygments_lexer": "ipython3",
   "version": "3.9.2"
  },
  "orig_nbformat": 2,
  "kernelspec": {
   "name": "python3",
   "display_name": "Python 3.9.2 64-bit",
   "metadata": {
    "interpreter": {
     "hash": "63fd5069d213b44bf678585dea6b12cceca9941eaf7f819626cde1f2670de90d"
    }
   }
  }
 },
 "nbformat": 4,
 "nbformat_minor": 2,
 "cells": [
  {
   "source": [
    "![Khoa_So](https://raw.githubusercontent.com/HUNDRED3421/CS112.L21.KHCL/main/Homework/Assignment%20%232/Khoa_So.png)"
   ],
   "cell_type": "markdown",
   "metadata": {}
  },
  {
   "source": [
    "- Abstraction: Cho một dãy số A gồm n số nguyên dương a1, a2,..,an, tìm số K lớn nhất có thể sao cho có ít nhất k số trong dãy số A có giá trị lớn hơn k. \n",
    "- Pattern recognition: bài toán sắp xếp\n",
    "```\n",
    "            Đặc điểm nhận dạng:\n",
    "            Cho một dãy số\n",
    "            Tìm lớn nhất\n",
    "```\n",
    "- Algorithm designed: merge_sort(A) \n",
    "> giả sử sử dụng merge sort\n",
    "```\n",
    "k = n\n",
    "loop i = 0 to n-1:\n",
    "      if A[i] >= k:\n",
    "      break\n",
    "      k = k - 1\n",
    "```\n",
    "- Time complexity: O(merge_sort) + O(n) = O(nlogn) + O(n) = O(nlogn)\n"
   ],
   "cell_type": "markdown",
   "metadata": {}
  },
  {
   "cell_type": "code",
   "execution_count": null,
   "metadata": {},
   "outputs": [],
   "source": [
    "def List_Unlock(R, L):\n",
    "    index = list()\n",
    "    for i in range(len(L) - 1, -1, -1):\n",
    "        temp = int(L[i])\n",
    "        if R == temp % 3:\n",
    "            L.pop(i)\n",
    "            return 1\n",
    "        elif 2 != len(index):\n",
    "            if 3 - R == temp % 3:\n",
    "                index.append(i)\n",
    "    L.pop(index[0])\n",
    "    L.pop(index[1])\n",
    "    return 2\n",
    "\n",
    "n = input().strip()\n",
    "L = sorted(n, reverse=True)\n",
    "R = int(n) % 3\n",
    "\n",
    "if 0 != R:\n",
    "    List_Unlock(R, L)\n",
    "print(\"\".join(L))"
   ]
  },
  {
   "cell_type": "code",
   "execution_count": null,
   "metadata": {},
   "outputs": [],
   "source": []
  }
 ]
}