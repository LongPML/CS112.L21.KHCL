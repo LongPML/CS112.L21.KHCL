{
 "metadata": {
  "language_info": {
   "codemirror_mode": {
    "name": "ipython",
    "version": 3
   },
   "file_extension": ".py",
   "mimetype": "text/x-python",
   "name": "python",
   "nbconvert_exporter": "python",
   "pygments_lexer": "ipython3",
   "version": "3.9.2"
  },
  "orig_nbformat": 2,
  "kernelspec": {
   "name": "python3",
   "display_name": "Python 3.9.2 64-bit",
   "metadata": {
    "interpreter": {
     "hash": "63fd5069d213b44bf678585dea6b12cceca9941eaf7f819626cde1f2670de90d"
    }
   }
  }
 },
 "nbformat": 4,
 "nbformat_minor": 2,
 "cells": [
  {
   "source": [
    "![Khoa_So](https://raw.githubusercontent.com/HUNDRED3421/CS112.L21.KHCL/main/Homework/Assignment%20%232/Khoa_So.png)"
   ],
   "cell_type": "markdown",
   "metadata": {}
  },
  {
   "source": [
    "- Abstraction: Tìm số lớn nhất chia hết cho 3 có thể tạo được từ các chữ số của số nhập vào.\n",
    "- Pattern recognition: Bài toán sắp xếp, tìm kiếm phần tử mảng.\n",
    "    + Đặc điểm nhận dạng: Bài toán tìm số lớn nhất chia hết cho 3 là bài toán sắp xếp và duyệt qua tất cả các chữ số sao cho tổng các chữ số chia hết cho 3.\n",
    "- Algorithm designed: \n",
    "```\n",
    "        List = n.sort(reverse = True)\n",
    "        Remainder = n % 3\n",
    "        if Remainder != 0:\n",
    "            for i in range(len(List) -1, -1, -1):\n",
    "                index = []\n",
    "                if Remainder == List[i] % 3:\n",
    "                    List.pop[i]\n",
    "                    break\n",
    "                elif 2 != len(index):\n",
    "                    if 3 - Remainder == List[i] % 3:\n",
    "                        index.append(i)\n",
    "            List.pop(index[0])\n",
    "            List.pop(index[1])\n",
    "        print(''.join(List))\n",
    "```\n",
    "- Time complexity: O(n)"
   ],
   "cell_type": "markdown",
   "metadata": {}
  },
  {
   "cell_type": "code",
   "execution_count": null,
   "metadata": {},
   "outputs": [],
   "source": [
    "def List_Unlock(R, L):\n",
    "    index = list()\n",
    "    for i in range(len(L) - 1, -1, -1):\n",
    "        temp = int(L[i])\n",
    "        if R == temp % 3:\n",
    "            L.pop(i)\n",
    "            return 1\n",
    "        elif 2 != len(index):\n",
    "            if 3 - R == temp % 3:\n",
    "                index.append(i)\n",
    "    L.pop(index[0])\n",
    "    L.pop(index[1])\n",
    "    return 2\n",
    "\n",
    "n = input().strip()\n",
    "L = sorted(n, reverse=True)\n",
    "R = int(n) % 3\n",
    "\n",
    "if 0 != R:\n",
    "    List_Unlock(R, L)\n",
    "print(\"\".join(L))"
   ]
  }
 ]
}