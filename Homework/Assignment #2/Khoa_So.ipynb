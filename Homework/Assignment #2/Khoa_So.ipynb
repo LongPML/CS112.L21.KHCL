{
 "metadata": {
  "language_info": {
   "codemirror_mode": {
    "name": "ipython",
    "version": 3
   },
   "file_extension": ".py",
   "mimetype": "text/x-python",
   "name": "python",
   "nbconvert_exporter": "python",
   "pygments_lexer": "ipython3",
   "version": "3.9.2"
  },
  "orig_nbformat": 2,
  "kernelspec": {
   "name": "python3",
   "display_name": "Python 3.9.2 64-bit",
   "metadata": {
    "interpreter": {
     "hash": "63fd5069d213b44bf678585dea6b12cceca9941eaf7f819626cde1f2670de90d"
    }
   }
  }
 },
 "nbformat": 4,
 "nbformat_minor": 2,
 "cells": [
  {
   "cell_type": "code",
   "execution_count": 7,
   "metadata": {},
   "outputs": [
    {
     "output_type": "stream",
     "name": "stdout",
     "text": [
      "1234512121\n543222111\n"
     ]
    }
   ],
   "source": [
    "n = input()\n",
    "k = sorted(n, reverse= True)\n",
    "S = sum([int(x) for x in k])\n",
    "if 0 == S%3:\n",
    "    print(\"\".join(k))\n",
    "elif 1 == S%3:\n",
    "    for i in range(len(n) - 1, -1, -1):\n",
    "        if 1 == int(k[i]) % 3:\n",
    "            k.pop(i)\n",
    "            break\n",
    "    print(\"\".join(k))\n",
    "elif 2 == S%3:\n",
    "    for i in range(len(n) - 1, -1, -1):\n",
    "        if 2 == int(k[i]) % 3:\n",
    "            k.pop(i)\n",
    "            break\n",
    "    print(\"\".join(k))"
   ]
  },
  {
   "cell_type": "code",
   "execution_count": null,
   "metadata": {},
   "outputs": [],
   "source": []
  }
 ]
}