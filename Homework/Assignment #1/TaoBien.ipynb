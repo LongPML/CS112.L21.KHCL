{
  "nbformat": 4,
  "nbformat_minor": 0,
  "metadata": {
    "colab": {
      "name": "TaoBien.ipynb",
      "provenance": [],
      "collapsed_sections": [],
      "include_colab_link": true
    },
    "kernelspec": {
      "name": "python3",
      "display_name": "Python 3"
    },
    "language_info": {
      "name": "python"
    }
  },
  "cells": [
    {
      "cell_type": "markdown",
      "metadata": {
        "id": "ZiNsBlO_cPH3"
      },
      "source": [
        "![Tảo Biển](https://raw.githubusercontent.com/HUNDRED3421/CS112.L21.KHCL/main/Homework/Assignment%20%231/Tao_Bien.png)"
      ]
    },
    {
      "source": [
        "# Bài làm\n",
        "1. Abstraction: cho hai số n và k(1 <= n <= 1000, 1 <= k <= $10^{17}$), f(1) = n, f(2) = 2n, f(k) = 3*f(k-1) - f(k-2)$. Tính tổng $f(0) + f(1) + ... + f(k)$ theo mo do dun $10^9+7$\n",
        "2. Pattern Recognition: bài toán quy hoạch động, giải quyết bài toán lớn thông qua những bài toán nhỏ hơn.\n",
        "3. Algorithm Designed:\n",
        "\n",
        "```\n",
        "for i in range(2, k+1):\n",
        "  f0=f1\n",
        "  f1=fk\n",
        "  fk=(3*f1 - f0)%(1000000007)   \n",
        "return fk\n",
        "```\n",
        "\n",
        "\n",
        "4. Time complexity: O(n)\n",
        "\n",
        "5. Programming:"
      ],
      "cell_type": "markdown",
      "metadata": {
        "id": "E5QAzeU_p3V1"
      }
    },
    {
      "cell_type": "code",
      "metadata": {
        "colab": {
          "base_uri": "https://localhost:8080/"
        },
        "id": "ObsBel24pz7n",
        "outputId": "145adc32-2697-4222-ac7e-1cedf477a4b2"
      },
      "source": [
        "def Tao_Solve(n, k):\n",
        "    f0=0\n",
        "    f1=n\n",
        "    fk=2*n\n",
        "    Mod=1000000007\n",
        "    for i in range(2, int(k+1)):\n",
        "        f0=f1\n",
        "        f1=fk\n",
        "        fk=(3*f1 - f0)%(Mod)\n",
        "    return fk\n",
        "        \n",
        "l = input().split()\n",
        "n, k = [int(x) for x in l]\n",
        "print(Tao_Solve(n,k))"
      ],
      "execution_count": null,
      "outputs": [
        {
          "output_type": "stream",
          "text": [
            "3 2\n",
            "15\n"
          ],
          "name": "stdout"
        }
      ]
    }
  ]
}