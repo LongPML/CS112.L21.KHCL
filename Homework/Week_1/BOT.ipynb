{
  "nbformat": 4,
  "nbformat_minor": 0,
  "metadata": {
    "colab": {
      "name": "BOT",
      "provenance": [],
      "collapsed_sections": [],
      "include_colab_link": true
    },
    "kernelspec": {
      "display_name": "Python 3",
      "name": "python3"
    }
  },
  "cells": [
    {
      "cell_type": "markdown",
      "metadata": {
        "id": "view-in-github",
        "colab_type": "text"
      },
      "source": [
        "<a href=\"https://colab.research.google.com/github/HUNDRED3421/CS112.L21.KHCL/blob/main/Homework/Week_1/BOT.ipynb\" target=\"_parent\"><img src=\"https://colab.research.google.com/assets/colab-badge.svg\" alt=\"Open In Colab\"/></a>"
      ]
    },
    {
      "cell_type": "markdown",
      "metadata": {
        "id": "Ahh9AKIXV9jw"
      },
      "source": [
        "![Tảo Biền](https://raw.githubusercontent.com/HUNDRED3421/CS112.L21.KHCL/main/Homework/Week_1/BOT.png)"
      ]
    },
    {
      "source": [
        "1. Abstraction: tìm ra khoảng cách từ p đến q sao cho lãi thu được là cao nhất (với p là đoạn đường bắt đầu q là đoạn đường kết thúc)\n",
        "\n",
        "2. Pattern Recognition:  đây là bài toán tìm dãy con liên tục có tổng lớn nhất, có vị trí bắt đầu là p và vị trí kết thúc là q mà sao cho tổng lớn nhất(lãi cao nhất)\n",
        "\n",
        "3. Algorithm Designed:\n",
        "Thuật toán được áp dụng là Kadane’ algorithm\n",
        "\n",
        "```\n",
        "\tint best=Int_min\n",
        "\tint sum=0\n",
        "\tfor i in range(n)\n",
        "\t\tsum=max(arr[i],sum+arr[i])\n",
        "\t\tbest=max(sum,best)\n",
        "```\n",
        "\n",
        "4. Độ phức tạp là O(n)"
      ],
      "cell_type": "code",
      "metadata": {
        "id": "ojQhRGT3PgUJ"
      },
      "execution_count": null,
      "outputs": []
    },
    {
      "cell_type": "code",
      "metadata": {
        "id": "1UJbIhcPPcRl"
      },
      "source": [
        "n=int(input())\n",
        "a=list(map(int,input().split())) \n",
        "best = -100000000       #khởi tạo giá trị lãi thu được là nhỏ nhất\n",
        "sum=0                   #khởi tạo giá trị tổng tạm tính bắt đầu từ left đến right bằng 0\n",
        "left=0                  #khởi tạo giá trị bắt đầu là 0\n",
        "right=0                 #khởi tạo giá trị kết thúc là 0\n",
        "current=0               #khởi tạo giá trị hiện tại là 0\n",
        "for i in range(n):      #duyệt mảng gồm n phần tử\n",
        "    if (sum+a[i]<a[i]): #kiểm tra nếu lãi trước đó cộng thêm với đoạn đường đang duyệt có nhỏ hơn so với lãi trên đoạn đường đó hay không \n",
        "        current=i       #lưu lại vị trí hiện tại là i nếu có\n",
        "        sum=a[i]        #và gán sum bằng a[i]\n",
        "    else:\n",
        "        sum+=a[i]       #ngược lại thì sum=sum+a[i]\n",
        "    if (best<sum):      #sau đó kiểm tra sum so với best để lấy tổng lãi suất tốt nhất\n",
        "        best=sum        #lưu lại best nếu sum lớn hơn\n",
        "        left=current    #gán lại vị trí bắt đầu là vị trí hiện tại đã duyệt\n",
        "        right=i         #và right=i\n",
        "print(left+1,right+1,best)  #in ra tổng lãi lớn nhất là best và vị trí bắt đầu và kết thúc"
      ],
      "execution_count": null,
      "outputs": []
    }
  ]
}