{
  "nbformat": 4,
  "nbformat_minor": 0,
  "metadata": {
    "colab": {
      "name": "Mê cung.ipynb",
      "provenance": []
    },
    "kernelspec": {
      "name": "python3",
      "display_name": "Python 3"
    },
    "language_info": {
      "name": "python"
    }
  },
  "cells": [
    {
      "cell_type": "markdown",
      "metadata": {
        "id": "5KgNvuFbo6ss"
      },
      "source": [
        "# **Nhóm 1**\n",
        "\n",
        "\n"
      ]
    },
    {
      "cell_type": "code",
      "metadata": {
        "colab": {
          "base_uri": "https://localhost:8080/"
        },
        "id": "Jfpmu9L9Nf7V",
        "outputId": "27d95b64-dff9-4b73-e22e-64b470f14e02"
      },
      "source": [
        "def Inside(i,j):\n",
        "    if (i>=0) and (i<r) and (j>=0) and (j<c):\n",
        "      return True\n",
        "    return False\n",
        "def bfs_loang(u,v):\n",
        "  count=0\n",
        "  qi=[]\n",
        "  qj=[]\n",
        "  qi.append(u)\n",
        "  qj.append(v)\n",
        "  first=0 \n",
        "  last=0\n",
        "  while (first<=last):\n",
        "    i=qi[first]                         #duyệt bước đang ở trong hàng đợiđợi\n",
        "    j=qj[first]\n",
        "    first=first+1\n",
        "    for k in range(4):\n",
        "      inext=i+hi[k]                     #bước tiếp theo\n",
        "      jnext=j+hj[k]\n",
        "      if (Inside(inext,jnext)==True):    #kiểm tra còn trong ma trận \n",
        "        if (free[inext][jnext]==True):        #kiểm tra có chướng ngại vật \n",
        "          if (a[inext][jnext]=='e'):        #kiểm tra đến đích \n",
        "              count=count+1\n",
        "              return count\n",
        "          else:\n",
        "              count=count+1                 #nếu chưa tăng số bước đi lên 1\n",
        "              last=last+1                   #bỏ bước đó vào hàng đợi\n",
        "              free[inext][jnext]=False\n",
        "              qi.append(inext)\n",
        "              qj.append(jnext)\n",
        "  return -1\n",
        "hi=[-1,0,1,0]\n",
        "hj=[0,1,0,-1]\n",
        "while True: \n",
        "    r,c=map(int,input().split())\n",
        "    if (r==0) and (c==0):\n",
        "      break\n",
        "    a=[]\n",
        "    free=[[True]*(c) for i in range(r)]\n",
        "    for i in range(r):\n",
        "      a.append([])\n",
        "      x=str(input())\n",
        "      for j in range(c):\n",
        "        a[i].append(x[j])\n",
        "        if (a[i][j]=='s'):\n",
        "          free[i][j]=False\n",
        "          u=i\n",
        "          v=j\n",
        "        if (a[i][j]=='#'):\n",
        "          free[i][j]=False\n",
        "    print(bfs_loang(u,v))\n",
        "    \n",
        "  \n",
        "  \n"
      ],
      "execution_count": 58,
      "outputs": [
        {
          "output_type": "stream",
          "text": [
            "4 5\n",
            "s.###\n",
            "#.#.#\n",
            "#..e.\n",
            ".#.##\n",
            "5\n",
            "0 0\n"
          ],
          "name": "stdout"
        }
      ]
    }
  ]
}