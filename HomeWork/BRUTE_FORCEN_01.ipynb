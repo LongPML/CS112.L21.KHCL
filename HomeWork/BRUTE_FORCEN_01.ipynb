{
  "nbformat": 4,
  "nbformat_minor": 0,
  "metadata": {
    "colab": {
      "name": "CompleteSearch(BruteForce).ipynb",
      "provenance": [],
      "collapsed_sections": []
    },
    "kernelspec": {
      "name": "python3",
      "display_name": "Python 3"
    },
    "language_info": {
      "name": "python"
    }
  },
  "cells": [
    {
      "cell_type": "code",
      "metadata": {
        "id": "1jr8h_v0Xbn5"
      },
      "source": [
        "'''Tich lon nhat cua 3 phan tu bat ky trong mang A'''\n",
        "A = [int(x) for x in input().split()]\n",
        "MAX = 0;\n",
        "for i in range(len(A) - 2):\n",
        "  for j in range(i + 1, len(A) - 1):\n",
        "    for k in range(j + 1, len(A)):\n",
        "        temp = A[i] * A[j] * A[k]\n",
        "        if temp > MAX:\n",
        "          MAX = temp\n",
        "print(MAX)"
      ],
      "execution_count": null,
      "outputs": []
    },
    {
      "cell_type": "code",
      "metadata": {
        "id": "de50sAakbdHl"
      },
      "source": [
        "'''So phong phu'''\n",
        "L, R = [int(x) for x in input().split()][:]\n",
        "count = 0\n",
        "\n",
        "def SoPhongPhu(n):\n",
        "  Sum = 0\n",
        "  for i in range(1, n):\n",
        "    if 0 == n%i:\n",
        "      Sum += i\n",
        "  if Sum > n:\n",
        "    return 1\n",
        "  return -1\n",
        "\n",
        "for i in range(L, R + 1, 1):\n",
        "  if 1 == SoPhongPhu(i):\n",
        "    count += 1\n",
        "\n",
        "print(count)"
      ],
      "execution_count": null,
      "outputs": []
    }
  ]
}