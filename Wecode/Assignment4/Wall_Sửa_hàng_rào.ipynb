{
  "nbformat": 4,
  "nbformat_minor": 0,
  "metadata": {
    "colab": {
      "name": "Wall_Sửa hàng rào.ipynb",
      "provenance": [],
      "toc_visible": true
    },
    "kernelspec": {
      "name": "python3",
      "display_name": "Python 3"
    },
    "language_info": {
      "name": "python"
    }
  },
  "cells": [
    {
      "cell_type": "markdown",
      "metadata": {
        "id": "hEDGYqrPxtou"
      },
      "source": [
        "# **Sửa hàng rào**\n",
        "\n",
        "Sau khi dựng xong nhà kho chứa cỏ, dì Poly quyết định dùng m tấm gỗ còn thừa gia cố hàng rào của vườn rau ngăn không cho gà vào phá và giao công việc này cho Tôm và Hấc Phin làm. Nhiệm vụ của hai cậu bé tội nghiệp là đóng thêm vào các tấm ván hàng rào để có hàng rào mới càng cao càng tốt. Nhìn vẽ mặt buồn thiu và lóng ngóng của 2 đứa Jim quyết định sẽ làm giúp. Hàng rào được ghép từ n tấm gỗ cùng độ rộng như nhau và bằng độ rộng của các tấm gỗ còn thừa, tấm thứ i có độ cao ai, i = 1 ÷ n. Tôm và Hấc Phin chỉ phải xếp các tấm còn thừa lên xe ba gác để Jim kéo đi. Các tấm gỗ được xếp thành một chồng, tính từ trên xuống tấm thứ j có độ dài bj, j = 1 ÷ m. Jim kéo xe ba gác đi dọc theo hàng rào. Đến một tấm nào đó muốn gia cố Jim sẽ lấy một tấm gỗ từ xe đóng tiếp lên tấm gỗ trên hàng rào và độ cao mới của tấm này trên hàng rào sẽ là tổng độ cao của tấm cũ và tấm mới đóng thêm. Jim chỉ đóng thêm một tấm mới vào tấm cũ vì muốn đảm bảo độ chắc chắn của hàng rào. Jim có thể lấy tấm trên cùng ở xe hoặc vất ra khỏi xe một số tấm cho đến khi gặp tấm vừa ý. Người ta vẫn nói “Khôn đâu tới trẻ, khỏe đâu tới già!”  Jim đã đứng tuổi và không còn sức để xếp lại các tấm gỗ bị bỏ ra vào xe. Ngoài ra, Jim cũng khá mê tín nên không quay lại lấy những tấm đã loại.\n",
        "\n",
        "Hãy xác định độ cao lớn nhất có thể đạt được của hàng rào sau khi gia cố. Độ cao của hàng rào được tính bằng độ cao tấm gỗ thấp nhất trên hàng rào.\n",
        "\n",
        "Dữ liệu: Vào từ thiết bị nhập chuẩn:\n",
        "\n",
        "Dòng đầu tiên chứa số nguyên n (1 ≤ n ≤ 10^5),\n",
        "Dòng thứ 2 chứa n số nguyên a1, a2, . . ., an (1 ≤ ai ≤ 10^8, i = 1 ÷ n),\n",
        "Dòng thứ 3 chứa số nguyên m  (1 ≤ m ≤ 10^5),\n",
        "Dòng cuối cùng chứ m số nguyên b1, b2, . . ., bm (1 ≤ bj ≤ 10^8, j = 1÷ m).\n",
        "Kết quả: Đưa ra thiết bị xuất chuẩn, dòng đầu tiên chứa 2 số nguyên h và k – độ cao lớn nhất có thể của hàng rào và số tấm gỗ đã được đóng thêm, mỗi dòng trong k dòng tiếp theo chứa 2 số nguyên x và y, trong đó x – tấm gỗ trên hàng rào được đóng cao hơn, y – tấm gỗ được dùng để đóng. Đưa ra phương án có các số hiệu tấm ván được chọn là nhỏ nhất nếu tồn tại nhiều cách đóng khác nhau."
      ]
    },
    {
      "cell_type": "markdown",
      "metadata": {
        "id": "2ZRFQ4FHxxl4"
      },
      "source": [
        "**Input**\n",
        "\n",
        "6\n",
        "\n",
        "2 5 4 1 7 5\n",
        "\n",
        "7\n",
        "\n",
        "2 3 1 3 2 4 6\n",
        "\n",
        "**Output**\n",
        "\n",
        "5 3\n",
        "\n",
        "1 2\n",
        "\n",
        "3 3\n",
        "\n",
        "4 6"
      ]
    },
    {
      "cell_type": "markdown",
      "metadata": {
        "id": "jvTJPlBky1ae"
      },
      "source": [
        "# **Abstraction**\n",
        "\n",
        "Cho mảng a gồm n phần tử (1<=n<=10^5) a0,a1,...an(1<=ai<=10^8). Và mảng b gồm m phần tử (1<=m<=10^5) b0,b1,...bn (1<=bi<=10^8). \n",
        "\n",
        "Tìm h,k thỏa:\n",
        "\n",
        " * h=min(a[i]+b[j]) và h là lớn nhất với i,j lần lượt là chỉ số trong mảng a,b\n",
        " (1<=i<=n),(j0<=j<=m) với j0 là phần tử sau phần tử đã được cộng với a[i-1]\n",
        "\n",
        "*  k là số phần tử mảng a được thay đổi và in ra các vị trí đã được cộng \n",
        "\n",
        "\n",
        "\n",
        "\n",
        "\n"
      ]
    },
    {
      "cell_type": "markdown",
      "metadata": {
        "id": "AhaupHOi4Zfp"
      },
      "source": [
        "# **Pattern Recognition**\n",
        "\n",
        "* Sử dụng thuật toán tìm kiếm nhị phân (Divide and Conquer)\n",
        "* Nhận biết: tìm giá trị tối ưu trong điều kiện cho trước\n",
        "\n",
        "\n"
      ]
    },
    {
      "cell_type": "markdown",
      "metadata": {
        "id": "C5aZ11khjMVK"
      },
      "source": [
        "# **Alogrithm Designed**\n",
        "\n",
        "\n",
        "*   Gán left=0; right=2*10^8+1\n",
        "*   Chạy vòng lặp While left<right\n",
        "\n",
        "\n",
        "           *  tìm chiều cao tối ưu giả định\n",
        "                  h=(right+left)//2   \n",
        "           *   kiểm tra liệu với chiều cao giả định thì có thỏa mãn điều kiện:\n",
        "              +Giả sử thỏa thì: left=h+1 để tăng rộng chiều cao để tìm ra chiều cao tối ưu nhất\n",
        "              +Giả sử không thỏa thì: right=h để thu hẹp phạm vi tìm kiếm\n",
        "\n",
        "\n",
        "*   Kết quả cuổi cùng sau khi kết thúc vòng lặp while là (left-1)\n",
        "*   In ra kết quả bao gồm:\n",
        "      + Chiều cao tối ưu tìm được, số lượng phần tử được cộng thêm trong mảng a\n",
        "      +Vị trí các phần tử được cộng thêm trong a và vị trí tương ứng các phần tử cộng trong b\n",
        "\n",
        "\n",
        "          \n",
        "\n",
        "\n",
        "\n"
      ]
    },
    {
      "cell_type": "markdown",
      "metadata": {
        "id": "9meOu84x0JUr"
      },
      "source": [
        "# **Độ phức tạp của thuật toán**\n",
        "\n",
        "O(nlogk) với n là độ dài mảng a, k=2*10^8+1"
      ]
    },
    {
      "cell_type": "code",
      "metadata": {
        "id": "voxoUuXtondv"
      },
      "source": [
        "def Kt(n,m,a,b,h): #Hàm kiểm tra giả sử chiều cao miếng gỗ tìm được là h thì hàng rào a có thể thay đổi cao hơn h được không\n",
        "  #Tìm các phần tử nhỏ hơn h của dãy a\n",
        "  lw=[x for x in a if x<h] \n",
        "  if (len(lw)==0): #Nếu các thanh gỗ đều cao hơn h thì trả về True\n",
        "    return True\n",
        "  i=0\n",
        "  for bb in b: #Ngược lại tìm các miếng gỗ trong dãy b để đóng thêm sao cho các thanh gỗ dãy a cao hơn h\n",
        "    if (lw[i]+bb>=h):\n",
        "      i+=1\n",
        "    if (i==len(lw)):\n",
        "      return True\n",
        "  return False  #Nếu đã tìm hết dãy b nhưng dãy a không đạt chiều cao h thì trả về False"
      ],
      "execution_count": null,
      "outputs": []
    },
    {
      "cell_type": "code",
      "metadata": {
        "id": "jazIraCYqyf_"
      },
      "source": [
        "def printR(n,m,a,b,h): #Tương tự kiểm tra thì ta in luôn kết quả với chiều cao h chắc chắn là chiều cao tối ưu cần tìm\n",
        "  lw=[x for x in range(n) if a[x]<h] \n",
        "  i=0\n",
        "  best_res=''\n",
        "  if (len(lw)==0):\n",
        "    return best_res,0\n",
        "  for j in range(m):\n",
        "      if (a[lw[i]]+b[j]>=h):\n",
        "        best_res+=str(lw[i]+1)+' '+str(j+1)+'\\n'\n",
        "        i+=1\n",
        "      if (i==len(lw)):\n",
        "        return best_res,len(lw)"
      ],
      "execution_count": null,
      "outputs": []
    },
    {
      "cell_type": "code",
      "metadata": {
        "id": "lvCHbja5EeQn",
        "colab": {
          "base_uri": "https://localhost:8080/"
        },
        "outputId": "7033bf46-ad04-46e0-ab1a-d4c5497cfe30"
      },
      "source": [
        "n=int(input())\n",
        "a=[int(i) for i in input().split()]\n",
        "m=int(input())\n",
        "b=[int(i) for i in input().split()]\n",
        "left=0\n",
        "right=200000000+1                         #Khởi tạo các giá trị ban đầu\n",
        "h=0\n",
        "while (left<right):\n",
        "    hh=(left+right)//2                      #Chia nhị phân tìm độ cao h  \n",
        "    KT=Kt(n,m,a,b,hh)                       #Kiểm tra với độ cao h có thỏa mãn\n",
        "    if (KT==True):                         #Nếu có thì gán nới rộng chiều cao để tìm h tốt nhất(lớn nhất)\n",
        "      left=hh+1\n",
        "    else:                                   #Ngược lại thu hẹp phạm vi nhỏ hơn\n",
        "      right=hh\n",
        "h=left-1\n",
        "res=0\n",
        "res,count=printR(n,m,a,b,h)\n",
        "print(h,count)\n",
        "print(res)\n"
      ],
      "execution_count": null,
      "outputs": [
        {
          "output_type": "stream",
          "text": [
            "6\n",
            "2 5 4 1 7 5\n",
            "7\n",
            "2 3 1 3 2 4 6\n",
            "5 3\n",
            "1 2\n",
            "3 3\n",
            "4 6\n",
            "\n"
          ],
          "name": "stdout"
        }
      ]
    }
  ]
}