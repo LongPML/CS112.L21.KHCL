{
  "nbformat": 4,
  "nbformat_minor": 0,
  "metadata": {
    "colab": {
      "name": "Doi_moi.ipynb",
      "provenance": [],
      "collapsed_sections": [],
      "authorship_tag": "ABX9TyMafNAm0Mn/AVFYzEvfKDPY",
      "include_colab_link": true
    },
    "kernelspec": {
      "name": "python3",
      "display_name": "Python 3"
    },
    "language_info": {
      "name": "python"
    }
  },
  "cells": [
    {
      "cell_type": "markdown",
      "metadata": {
        "id": "view-in-github",
        "colab_type": "text"
      },
      "source": [
        "<a href=\"https://colab.research.google.com/github/LongPML/CS112.L21.KHCL/blob/main/Homework/Assignment3/Doi_moi.ipynb\" target=\"_parent\"><img src=\"https://colab.research.google.com/assets/colab-badge.svg\" alt=\"Open In Colab\"/></a>"
      ]
    },
    {
      "cell_type": "markdown",
      "metadata": {
        "id": "Lg7wotk93m00"
      },
      "source": [
        "# Đề bài\n",
        "![Doi_moi](https://raw.githubusercontent.com/LongPML/CS112.L21.KHCL/main/Homework/Assignment3/Doi_moi.jpg)\n",
        "\n",
        "# Astraction\n",
        "* Cho các số nguyên: *a, b, k, m, n* với:$1 ≤ a, b ≤ 10^9, 2 ≤ k, m ≤ 10^{18}, 1 ≤ n ≤ 10^{18}$.\n",
        "* Tim *n_date* nhỏ nhất thỏa mãn:  $a*d + b*d - (a//k)*a - (b//m)*b <= n$.\n",
        "\n",
        "# Pattern Recognition\n",
        "* Ta thấy theo yêu cầu bào toán là tìm giá trị n_date nhỏ nhất thở mãn công thức trên nên ta có thể áp dụng greedy algorithm để giải quyết. \n",
        "\n",
        "# Algorithm designed\n",
        "* Vì k, m >= 2 nên n_date > n/(a+b) với n_date là số ngày cần tính.\n",
        "```\n",
        "Bước 1: khởi tọa n_date = n/(a+b)\n",
        "bước 2: Tính số cây chặt được tại ngày n_date\n",
        "        _n = (a+b)*n_date - (a * (n_date//k) + b * (n_date//m))\n",
        "Bước 3: kiểm tra (_n >= n) ?\n",
        "        if (_n >= n ) đúng, print(n_date)\n",
        "        else \n",
        "            n_date += 1\n",
        "            quay lại bước 2\n",
        "```\n",
        "\n",
        "\n",
        "# Time complexity\n",
        "* Best case: O(n)\n",
        "\n",
        "# programming"
      ]
    },
    {
      "cell_type": "code",
      "metadata": {
        "id": "IW6XweL16Rc9",
        "colab": {
          "base_uri": "https://localhost:8080/"
        },
        "outputId": "547b26d8-3aa6-4302-df97-1059aa1a52d2"
      },
      "source": [
        "#input\n",
        "a, k, b, m, n = list(map(int, input().split()))\n",
        "\n",
        "n_date = round(n/(a+b))\n",
        "while(True):\n",
        "    _n =  (a+b)*n_date - (a * (n_date//k) + b * (n_date//m))\n",
        "    if _n >= n:\n",
        "        print(n_date)\n",
        "        break\n",
        "    n_date += 1"
      ],
      "execution_count": 3,
      "outputs": [
        {
          "output_type": "stream",
          "text": [
            "2 4 3 3 25\n",
            "7\n"
          ],
          "name": "stdout"
        }
      ]
    }
  ]
}