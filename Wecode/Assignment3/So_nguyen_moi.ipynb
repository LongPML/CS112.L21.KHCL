{
  "nbformat": 4,
  "nbformat_minor": 0,
  "metadata": {
    "colab": {
      "name": "Số nguyên mới.ipynb",
      "provenance": []
    },
    "kernelspec": {
      "name": "python3",
      "display_name": "Python 3"
    },
    "language_info": {
      "name": "python"
    }
  },
  "cells": [
    {
      "cell_type": "markdown",
      "metadata": {
        "id": "0EUipR0OTBuI"
      },
      "source": [
        "![SoNguyenMoi](https://raw.githubusercontent.com/LongPML/CS112.L21.KHCL/main/Wecode/Assignment3/SoNguyenMoi.png)\n"
      ]
    },
    {
      "cell_type": "markdown",
      "metadata": {
        "id": "gJEN2Crmbole"
      },
      "source": [
        "**1. Abtraction**\n",
        "\n",
        "Tìm số m chia hết cho 3 mà khác đúng một chữ số so với n và m là số lớn nhất (len(n)<=100)\n",
        "\n",
        "**2. Pattern Recognition**\n",
        "\n",
        "+ Đầu tiên ta có thể thấy chỉ thay đổi duy nhất một vị trí trong số n, điều kiện thay đổi phải là chữ số lớn nhất có thể để tổng các chữ số chia hết cho 3 \n",
        "+ Để số mới là số lớn nhất thì ta xét duyệt thay thế từ vị trí đầu tiên của n và thay thế bắt đầu từ chữ số 9 đến giá trị chữ số ban đầu thay thế của n và kiểm tra điều kiện tổng các chữ số chia hết cho 3 (nếu có thể). Nếu không được thì ta duyệt tiếp tục xuống đến khi hết độ dài số n.  \n",
        "+ Nếu đến chữ số cuối cùng của n mà vẫn không thay đổi được ta sẽ trả về kết quả (n-x) với x=n mod 3 (số dư của n khi chia cho 3). Nếu n mod 3==0 vì số m khác n nên x==3, x thuộc {1,2,3}\n",
        "\n",
        "**3. Algorithm designed**\n",
        "\n",
        " sum=(n[i=0 -> n-1])  \n",
        "\n",
        "ok=false\n",
        " for (k=0 -> len(n-1))\n",
        "\n",
        "    i=9\n",
        "\n",
        "    sum=sum-n[k]+i\n",
        "\n",
        "    if sum%3==0:\n",
        "\n",
        "      print(n[:k]+str(i)+n[k+1:])\n",
        "      ok=true\n",
        "\n",
        "if ok==false\n",
        "  print(n-[n mod 3])\n",
        "\n",
        "**4. Độ phức tạp**\n",
        "O=(len(n))\n",
        "  "
      ]
    },
    {
      "cell_type": "code",
      "metadata": {
        "id": "q8pNIiDoac95"
      },
      "source": [
        "n = (input())\n",
        "n = str(int(n))\n",
        "# Tính tổng các chữ số\n",
        "Sum = 0 \n",
        "for i in n:\n",
        "    Sum+=int(i)\n",
        "\n",
        "# Duyệt xét từng vị trí thay số kiểm tra\n",
        "k = 0\n",
        "KT = True\n",
        "while k < len(n):\n",
        "    if n[k]!='9':\n",
        "        i = 9\n",
        "        while i >= int(n[k])+1:\n",
        "            Sum= Sum - int(n[k]) + i\n",
        "            if Sum % 3 ==0:\n",
        "                print(n[:k]+str(i)+n[k+1:])\n",
        "                KT = False\n",
        "                exit()\n",
        "            else :\n",
        "                Sum = Sum - i + int(n[k])\n",
        "                i-=1 \n",
        "        k+=1\n",
        "    else : k+=1\n",
        "        \n",
        "# Trường hợp chưa tìm thấy số thì lấy số ban đầu trừ đi số dư   \n",
        "if KT == True:\n",
        "        KhoangCach = int(n) % 3\n",
        "        x = n[0:len(n)-1]\n",
        "        if KhoangCach == 0 :\n",
        "            KhoangCach=3\n",
        "        elif KhoangCach== 1:\n",
        "            KhoangCach =1 \n",
        "        else:\n",
        "            KhoangCach = 2\n",
        "        print( x+ str(int(n[-1])-KhoangCach))"
      ],
      "execution_count": null,
      "outputs": []
    }
  ]
}